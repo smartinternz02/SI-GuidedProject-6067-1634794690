{
 "cells": [
  {
   "cell_type": "code",
   "execution_count": 1,
   "id": "4c8fa3d0",
   "metadata": {},
   "outputs": [
    {
     "name": "stdout",
     "output_type": "stream",
     "text": [
      "Requirement already satisfied: ibm_watson_machine_learning in c:\\users\\navee\\anaconda3\\lib\\site-packages (1.0.175)\n",
      "Requirement already satisfied: pandas<1.3.0,>=0.24.2 in c:\\users\\navee\\anaconda3\\lib\\site-packages (from ibm_watson_machine_learning) (1.2.4)\n",
      "Requirement already satisfied: importlib-metadata in c:\\users\\navee\\anaconda3\\lib\\site-packages (from ibm_watson_machine_learning) (4.8.2)\n",
      "Requirement already satisfied: ibm-cos-sdk==2.7.* in c:\\users\\navee\\anaconda3\\lib\\site-packages (from ibm_watson_machine_learning) (2.7.0)\n",
      "Requirement already satisfied: requests in c:\\users\\navee\\anaconda3\\lib\\site-packages (from ibm_watson_machine_learning) (2.25.1)\n",
      "Requirement already satisfied: lomond in c:\\users\\navee\\anaconda3\\lib\\site-packages (from ibm_watson_machine_learning) (0.3.3)\n",
      "Requirement already satisfied: urllib3 in c:\\users\\navee\\anaconda3\\lib\\site-packages (from ibm_watson_machine_learning) (1.26.4)\n",
      "Requirement already satisfied: certifi in c:\\users\\navee\\anaconda3\\lib\\site-packages (from ibm_watson_machine_learning) (2020.12.5)\n",
      "Requirement already satisfied: packaging in c:\\users\\navee\\anaconda3\\lib\\site-packages (from ibm_watson_machine_learning) (20.9)\n",
      "Requirement already satisfied: tabulate in c:\\users\\navee\\anaconda3\\lib\\site-packages (from ibm_watson_machine_learning) (0.8.9)\n",
      "Requirement already satisfied: ibm-cos-sdk-s3transfer==2.7.0 in c:\\users\\navee\\anaconda3\\lib\\site-packages (from ibm-cos-sdk==2.7.*->ibm_watson_machine_learning) (2.7.0)\n",
      "Requirement already satisfied: jmespath<1.0.0,>=0.7.1 in c:\\users\\navee\\anaconda3\\lib\\site-packages (from ibm-cos-sdk==2.7.*->ibm_watson_machine_learning) (0.10.0)\n",
      "Requirement already satisfied: ibm-cos-sdk-core==2.7.0 in c:\\users\\navee\\anaconda3\\lib\\site-packages (from ibm-cos-sdk==2.7.*->ibm_watson_machine_learning) (2.7.0)\n",
      "Requirement already satisfied: docutils<0.16,>=0.10 in c:\\users\\navee\\anaconda3\\lib\\site-packages (from ibm-cos-sdk-core==2.7.0->ibm-cos-sdk==2.7.*->ibm_watson_machine_learning) (0.15.2)\n",
      "Requirement already satisfied: python-dateutil<3.0.0,>=2.1 in c:\\users\\navee\\anaconda3\\lib\\site-packages (from ibm-cos-sdk-core==2.7.0->ibm-cos-sdk==2.7.*->ibm_watson_machine_learning) (2.8.1)\n",
      "Requirement already satisfied: pytz>=2017.3 in c:\\users\\navee\\anaconda3\\lib\\site-packages (from pandas<1.3.0,>=0.24.2->ibm_watson_machine_learning) (2021.1)\n",
      "Requirement already satisfied: numpy>=1.16.5 in c:\\users\\navee\\anaconda3\\lib\\site-packages (from pandas<1.3.0,>=0.24.2->ibm_watson_machine_learning) (1.18.5)\n",
      "Requirement already satisfied: six>=1.5 in c:\\users\\navee\\anaconda3\\lib\\site-packages (from python-dateutil<3.0.0,>=2.1->ibm-cos-sdk-core==2.7.0->ibm-cos-sdk==2.7.*->ibm_watson_machine_learning) (1.15.0)\n",
      "Requirement already satisfied: idna<3,>=2.5 in c:\\users\\navee\\anaconda3\\lib\\site-packages (from requests->ibm_watson_machine_learning) (2.10)\n",
      "Requirement already satisfied: chardet<5,>=3.0.2 in c:\\users\\navee\\anaconda3\\lib\\site-packages (from requests->ibm_watson_machine_learning) (4.0.0)\n",
      "Requirement already satisfied: zipp>=0.5 in c:\\users\\navee\\anaconda3\\lib\\site-packages (from importlib-metadata->ibm_watson_machine_learning) (3.4.1)\n",
      "Requirement already satisfied: pyparsing>=2.0.2 in c:\\users\\navee\\anaconda3\\lib\\site-packages (from packaging->ibm_watson_machine_learning) (2.4.7)\n",
      "Note: you may need to restart the kernel to use updated packages.\n"
     ]
    }
   ],
   "source": [
    "pip install ibm_watson_machine_learning --upgrade"
   ]
  },
  {
   "cell_type": "code",
   "execution_count": 2,
   "id": "55bcfdca",
   "metadata": {},
   "outputs": [],
   "source": [
    "from ibm_watson_machine_learning import APIClient\n",
    "wml_credentials = {\n",
    "                   \"url\": \"https://us-south.ml.cloud.ibm.com\",\n",
    "                   \"apikey\":\"KDjFaE3CaF3dFaKfFmlfkhI5rG5TAM6fWIqZOBKIWy92\"\n",
    "                  }\n",
    "client = APIClient(wml_credentials)"
   ]
  },
  {
   "cell_type": "code",
   "execution_count": 3,
   "id": "57e2c079",
   "metadata": {},
   "outputs": [],
   "source": [
    "client = APIClient(wml_credentials)"
   ]
  },
  {
   "cell_type": "code",
   "execution_count": 4,
   "id": "390b14f1",
   "metadata": {},
   "outputs": [],
   "source": [
    "def guid_from_space_name(client, space_name):\n",
    "    space = client.spaces.get_details()\n",
    "    #print(space)\n",
    "    return(next(item for item in space['resources'] if item['entity'][\"name\"] == space_name)['metadata']['id'])"
   ]
  },
  {
   "cell_type": "code",
   "execution_count": 5,
   "id": "223cee5b",
   "metadata": {},
   "outputs": [
    {
     "name": "stdout",
     "output_type": "stream",
     "text": [
      "e11e4fae-ea39-4045-a975-1bbd7fb6758b\n"
     ]
    }
   ],
   "source": [
    "space_uid = guid_from_space_name(client, 'imageclassification')\n",
    "print(space_uid)"
   ]
  },
  {
   "cell_type": "code",
   "execution_count": 6,
   "id": "86d033bb",
   "metadata": {},
   "outputs": [
    {
     "data": {
      "text/plain": [
       "'SUCCESS'"
      ]
     },
     "execution_count": 6,
     "metadata": {},
     "output_type": "execute_result"
    }
   ],
   "source": [
    "client.set.default_space(space_uid)"
   ]
  },
  {
   "cell_type": "code",
   "execution_count": 7,
   "id": "c5648ff7",
   "metadata": {},
   "outputs": [
    {
     "name": "stdout",
     "output_type": "stream",
     "text": [
      "Successfully saved model content to file: 'my_model.tar.gz'\n"
     ]
    },
    {
     "data": {
      "text/plain": [
       "'C:\\\\Users\\\\navee\\\\Downloads/my_model.tar.gz'"
      ]
     },
     "execution_count": 7,
     "metadata": {},
     "output_type": "execute_result"
    }
   ],
   "source": [
    "client.repository.download(\"da90b78d-7a6b-4fd6-bf9e-3d52f97cfa47\", 'my_model.tar.gz')"
   ]
  },
  {
   "cell_type": "code",
   "execution_count": null,
   "id": "324e91c8",
   "metadata": {},
   "outputs": [],
   "source": []
  },
  {
   "cell_type": "code",
   "execution_count": null,
   "id": "25a065fc",
   "metadata": {},
   "outputs": [],
   "source": []
  },
  {
   "cell_type": "code",
   "execution_count": null,
   "id": "8457eb95",
   "metadata": {},
   "outputs": [],
   "source": []
  },
  {
   "cell_type": "code",
   "execution_count": null,
   "id": "8fe27b66",
   "metadata": {},
   "outputs": [],
   "source": []
  },
  {
   "cell_type": "code",
   "execution_count": null,
   "id": "dfd641c2",
   "metadata": {},
   "outputs": [],
   "source": []
  },
  {
   "cell_type": "code",
   "execution_count": null,
   "id": "12048aec",
   "metadata": {},
   "outputs": [],
   "source": []
  },
  {
   "cell_type": "code",
   "execution_count": null,
   "id": "de26f7ad",
   "metadata": {},
   "outputs": [],
   "source": []
  },
  {
   "cell_type": "code",
   "execution_count": null,
   "id": "3b5c6676",
   "metadata": {},
   "outputs": [],
   "source": []
  },
  {
   "cell_type": "code",
   "execution_count": null,
   "id": "11584b6a",
   "metadata": {},
   "outputs": [],
   "source": []
  },
  {
   "cell_type": "code",
   "execution_count": null,
   "id": "cf67f2ea",
   "metadata": {},
   "outputs": [],
   "source": [
    "client.software_specifications.list()"
   ]
  },
  {
   "cell_type": "code",
   "execution_count": null,
   "id": "41e01c44",
   "metadata": {},
   "outputs": [],
   "source": [
    "software_spec_uid = client.software_specifications.get_uid_by_name(\"default_py3.8\")\n",
    "software_spec_uid"
   ]
  },
  {
   "cell_type": "code",
   "execution_count": null,
   "id": "1fb78c1b",
   "metadata": {},
   "outputs": [],
   "source": [
    "model_details = client.repository.store_model(model=\"image-classification-model_new.tgz\",meta_props={\n",
    " client.repository.ModelMetaNames.NAME:\"CNN\",\n",
    " client.repository.ModelMetaNames.TYPE:\"keras_2.2.4\",\n",
    " client.repository.ModelMetaNames.SOFTWARE_SPEC_UID:software_spec_uid }\n",
    "                                             )\n",
    "model_id = client.repository.get_model_uid(model_details)"
   ]
  }
 ],
 "metadata": {
  "kernelspec": {
   "display_name": "Python 3",
   "language": "python",
   "name": "python3"
  },
  "language_info": {
   "codemirror_mode": {
    "name": "ipython",
    "version": 3
   },
   "file_extension": ".py",
   "mimetype": "text/x-python",
   "name": "python",
   "nbconvert_exporter": "python",
   "pygments_lexer": "ipython3",
   "version": "3.8.8"
  }
 },
 "nbformat": 4,
 "nbformat_minor": 5
}
